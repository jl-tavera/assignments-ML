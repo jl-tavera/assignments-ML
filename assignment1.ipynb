{
 "cells": [
  {
   "cell_type": "markdown",
   "metadata": {},
   "source": [
    "# Taller 1"
   ]
  },
  {
   "cell_type": "markdown",
   "metadata": {},
   "source": [
    "- Jose Luis Tavera Ruiz (201821999)\n",
    "- Aldemar Figueroa (202021091)\n"
   ]
  },
  {
   "cell_type": "markdown",
   "metadata": {},
   "source": [
    "#### Librerias"
   ]
  },
  {
   "cell_type": "code",
   "execution_count": 3,
   "metadata": {},
   "outputs": [],
   "source": [
    "import numpy as np\n",
    "import time"
   ]
  },
  {
   "cell_type": "markdown",
   "metadata": {},
   "source": [
    "#### Primer Punto"
   ]
  },
  {
   "cell_type": "markdown",
   "metadata": {},
   "source": [
    "Para cualquier número 𝑛 > 1 se define la siguiente operación:\n",
    "\n",
    "1. Si el número es par, se divide entre 2.\n",
    "2. Si el número es impar, se multiplica por 3 y se suma 1.\n",
    "3. Si es 1 termina.\n",
    "\n",
    "Se define la secuencia de 𝒏 como la lista de resultados de cada operación hasta llegar\n",
    "a 1. Por ejemplo, la secuencia de 6 es: 6, 3, 10, 5, 16, 8, 4, 2, 1. En este punto solo se\n",
    "pueden utilizar las funcionalidades básicas de Python."
   ]
  },
  {
   "cell_type": "markdown",
   "metadata": {},
   "source": [
    "a. Cree una función que reciba un entero 𝑛 y retorne una lista con la secuencia de 𝑛."
   ]
  },
  {
   "cell_type": "code",
   "execution_count": 23,
   "metadata": {},
   "outputs": [],
   "source": [
    "def sequence(n):\n",
    "    #Primero creamos una lista vacia donde guardaremos los valores de la secuencia\n",
    "    sequence_list = []\n",
    "    # Añadimos el primer valor de la secuencia a la lista\n",
    "    sequence_list.append(n)\n",
    "\n",
    "    #Mientras n sea distinto de 1, se ejecutara el siguiente bucle\n",
    "    while n!=1:\n",
    "\n",
    "        # Si n es par, se divide entre 2\n",
    "        if n%2 == 0:   \n",
    "            n= n/2\n",
    "\n",
    "        # Si n es impar, se multiplica por 3 y se le suma 1\n",
    "        else:\n",
    "            n= (n*3) + 1\n",
    "        \n",
    "        # Se añade el valor de n a la lista\n",
    "        sequence_list.append(n)\n",
    "\n",
    "    return sequence_list"
   ]
  },
  {
   "cell_type": "code",
   "execution_count": 25,
   "metadata": {},
   "outputs": [
    {
     "name": "stdout",
     "output_type": "stream",
     "text": [
      "Prueba con n=6\n",
      "[6, 3.0, 10.0, 5.0, 16.0, 8.0, 4.0, 2.0, 1.0]\n",
      "\n",
      "Prueba con n=7\n",
      "[7, 22, 11.0, 34.0, 17.0, 52.0, 26.0, 13.0, 40.0, 20.0, 10.0, 5.0, 16.0, 8.0, 4.0, 2.0, 1.0]\n"
     ]
    }
   ],
   "source": [
    "# Ahora haremos algunas pruebas para comprobar que la funcion sequence(n) funciona correctamente\n",
    "\n",
    "print(\"Prueba con n=6\")\n",
    "sequence_list = sequence(6)\n",
    "print(sequence_list)\n",
    "\n",
    "print(\"\")\n",
    "\n",
    "print(\"Prueba con n=7\")\n",
    "sequence_list = sequence(7)\n",
    "print(sequence_list)"
   ]
  },
  {
   "cell_type": "markdown",
   "metadata": {},
   "source": [
    "b. Cree una función que reciba un entero 𝑚, retorne el valor 𝑛 tal que su secuencia\n",
    "sea la más larga para los valores menores a 𝑚 y retorne el largo de la secuencia.\n",
    "Utilice el punto a)"
   ]
  },
  {
   "cell_type": "code",
   "execution_count": 30,
   "metadata": {},
   "outputs": [
    {
     "name": "stdout",
     "output_type": "stream",
     "text": [
      "('Valor: 3', 'Longitud: 8')\n"
     ]
    }
   ],
   "source": [
    "def longest_sequence(m):\n",
    "    # Definimos n = 0 ya que toda secuencia tiene al menos un valor\n",
    "    n=0\n",
    "    # Definimos longest = 2 \n",
    "    longest = 2\n",
    "    \n",
    "    # Hacemos un bucle que recorre todos los valores de la secuencia hasta m\n",
    "    for i in range(2,m):\n",
    "        \n",
    "        # Calculamos la secuencia para cada valor de i\n",
    "        sequence_i = sequence(i)\n",
    "        # Calculamos la longitud de la secuencia\n",
    "        length = len(sequence_i)\n",
    "        \n",
    "        # Si la longitud de la secuencia es mayor que n, actualizamos n y longest\n",
    "        if length > n:\n",
    "            longest = i\n",
    "            n=length\n",
    "    \n",
    "    return (\"Valor: \" + str(longest), \"Longitud: \" + str(n))\n",
    "\n",
    "print(longest_sequence(6))\n"
   ]
  },
  {
   "cell_type": "code",
   "execution_count": 31,
   "metadata": {},
   "outputs": [
    {
     "name": "stdout",
     "output_type": "stream",
     "text": [
      "Prueba con n=6\n",
      "('Valor: 3', 'Longitud: 8')\n",
      "\n",
      "Prueba con n=7\n",
      "('Valor: 3', 'Longitud: 8')\n"
     ]
    }
   ],
   "source": [
    "# Ahora haremos algunas pruebas para comprobar que la funcion longest_sequence(m) funciona correctamente\n",
    "print(\"Prueba con n=6\")\n",
    "print(longest_sequence(6))\n",
    "\n",
    "print(\"\")\n",
    "\n",
    "print(\"Prueba con n=7\")\n",
    "print(longest_sequence(6))\n"
   ]
  },
  {
   "cell_type": "markdown",
   "metadata": {},
   "source": [
    "c. Similar al literal anterior, cree una función que reciba un entero 𝑚 y retorne un\n",
    "diccionario donde las llaves sean enteros y los valores correspondan al largo de\n",
    "las secuencias de cada entero."
   ]
  },
  {
   "cell_type": "code",
   "execution_count": 22,
   "metadata": {},
   "outputs": [
    {
     "name": "stdout",
     "output_type": "stream",
     "text": [
      "{2: 2, 3: 8, 4: 3, 5: 6, 6: 9, 7: 17, 8: 4, 9: 20}\n"
     ]
    }
   ],
   "source": [
    "def sequence_dictionary(m):   \n",
    "    #Creamos un diccionario vacio donde guardaremos los valores de la secuencia\n",
    "    all_lengths = {}\n",
    "\n",
    "    #Hace un bucle que recorre todos los valores de la secuencia hasta m\n",
    "    for i in range(2,m):\n",
    "        \n",
    "        # Calculamos la secuencia para cada valor de i\n",
    "        sequence_i = sequence(i)\n",
    "        # Calculamos la longitud de la secuencia\n",
    "        length = len(sequence_i)\n",
    "        # Guardamos la longitud de la secuencia en el diccionario\n",
    "        all_lengths[i] = length \n",
    "\n",
    "    return all_lengths\n",
    "\n",
    "resultado = sequence_dictionary(10)\n",
    "print(resultado)"
   ]
  },
  {
   "cell_type": "markdown",
   "metadata": {},
   "source": [
    "d. Intenté modificar el punto a. y c. para crear una función que utiliza los resultados\n",
    "calculados previamente y retorna un diccionario donde las llaves sean enteros y\n",
    "los valores correspondan al largo de las secuencias de cada entero. Esto debería\n",
    "permitirles crear una función mucho más rápida."
   ]
  },
  {
   "cell_type": "code",
   "execution_count": null,
   "metadata": {},
   "outputs": [],
   "source": [
    "def punto_1_d(m):\n",
    "    dic = {}\n",
    "\n",
    "    for i in range(2,m):\n",
    "        secuencia_i = punto_1_a(i)\n",
    "        longitud = len(secuencia_i)\n",
    "        \n",
    "        dic[i] = longitud \n",
    "\n",
    "    return dic\n",
    "\n",
    "resultado = punto_1_d(6)\n",
    "print(resultado)"
   ]
  },
  {
   "cell_type": "markdown",
   "metadata": {},
   "source": [
    "e. Prueben las funciones del punto c. y d. con diferentes potencias de 10. \n"
   ]
  },
  {
   "cell_type": "code",
   "execution_count": null,
   "metadata": {},
   "outputs": [],
   "source": []
  },
  {
   "cell_type": "markdown",
   "metadata": {},
   "source": [
    "#### Segundo Punto"
   ]
  },
  {
   "cell_type": "markdown",
   "metadata": {},
   "source": [
    "En este punto solo se pueden utilizar las operaciones básicas de numpy. Los vectores\n",
    "son arrays en numpy. Pueden asumir que los vectores 𝑌 solo toman dos valores."
   ]
  },
  {
   "cell_type": "markdown",
   "metadata": {},
   "source": [
    "a. Cree una función euclidean_distance que calcule la distancia euclidiana en $\\mathbb{R}^n$ entre dos vectores $x$, $z$."
   ]
  },
  {
   "cell_type": "markdown",
   "metadata": {},
   "source": [
    "Para calcular la distancia euclidiana en $\\mathbb{R}^n$ simplemente restamos los vectores componente a componente y elevamos al cuadrado. La raíz cuadrada de la suma de los cuadrados corresponde a la métrica euclidiana. Tomado de: [Stanford (1999)](https://hlab.stanford.edu/brian/euclidean_distance_in.html)"
   ]
  },
  {
   "cell_type": "code",
   "execution_count": 4,
   "metadata": {},
   "outputs": [],
   "source": [
    "def euclidean_distance(x, z):\n",
    "# Chequeamos si los vectores son del mismo tamaño\n",
    "    if len(x) != len(z):\n",
    "# En caso contrario, levantamos un error\n",
    "        raise ValueError(\"The vectors must be the same size\")\n",
    "    else:\n",
    "        return np.sqrt(np.sum((x - z)**2))"
   ]
  },
  {
   "cell_type": "code",
   "execution_count": 5,
   "metadata": {},
   "outputs": [
    {
     "name": "stdout",
     "output_type": "stream",
     "text": [
      "[1 2 3]\n",
      "[4 5 6]\n",
      "Euclidean Distance: 5.1962\n",
      "\n",
      "[1 2 3 4 5]\n",
      "[ 6  7  8  9 10]\n",
      "Euclidean Distance: 11.1803\n"
     ]
    }
   ],
   "source": [
    "# Probamos la función con algunos ejemplos\n",
    "x = np.array([1, 2, 3])\n",
    "z = np.array([4, 5, 6])\n",
    "print(x)\n",
    "print(z)\n",
    "print(\"Euclidean Distance: \" + str(round(euclidean_distance(x, z), 4)))\n",
    "print(\"\")\n",
    "\n",
    "x = np.array([1, 2, 3, 4, 5])\n",
    "z = np.array([6, 7, 8, 9, 10])\n",
    "print(x)\n",
    "print(z)\n",
    "print(\"Euclidean Distance: \" + str(round(euclidean_distance(x, z), 4)))"
   ]
  },
  {
   "cell_type": "markdown",
   "metadata": {},
   "source": [
    "b. Cree una función nearest_neighbor que, dado un vector 𝑥 y una matriz 𝑋_𝑡𝑟𝑎𝑖𝑛, retorna el vector de los datos de entrenamiento 𝑋_𝑡𝑟𝑎𝑖𝑛 que minimiza la distancia euclidiana a 𝑥. Debe utilizar la función euclidean_distance"
   ]
  },
  {
   "cell_type": "code",
   "execution_count": 6,
   "metadata": {},
   "outputs": [],
   "source": [
    "def nearest_neighbor(x, X_train):\n",
    "    # Definimos la distancia mínima como infinito\n",
    "    min_distance = float('inf')\n",
    "    # Definimos el vector más cercano como None\n",
    "    nearest_vector = None\n",
    "    \n",
    "    # Iteramos sobre cada vector en el conjunto de entrenamiento\n",
    "    for vector in X_train:\n",
    "        # Calculamos la distancia entre el vector actual y el vector x\n",
    "        distance = euclidean_distance(x, vector)\n",
    "        # Si la distancia es menor que la distancia mínima actual\n",
    "        if distance < min_distance:\n",
    "            # Actualizamos la distancia mínima y el vector más cercano\n",
    "            min_distance = distance\n",
    "            nearest_vector = vector\n",
    "    \n",
    "    return nearest_vector"
   ]
  },
  {
   "cell_type": "markdown",
   "metadata": {},
   "source": [
    "c. Cree una función k_nearest_neighbors que, dado un vector 𝑥, una\n",
    "matriz 𝑋_𝑡𝑟𝑎𝑖𝑛 y un entero 𝑘, retorna los k vectores más cercanos de los datos\n",
    "de entrenamiento 𝑋. Debe usar alguna de las funciones creadas previamente"
   ]
  },
  {
   "cell_type": "code",
   "execution_count": 10,
   "metadata": {},
   "outputs": [],
   "source": [
    "def k_nearest_neighbors(x, X_train, k):\n",
    "    # Creamos un diccionario para guardar las distancias y los vectores\n",
    "    distances_dict = {}\n",
    "    # Creamos una lista para guardar todas las distancias\n",
    "    all_distances = []\n",
    "    # Iteramos sobre cada vector en el conjunto de entrenamiento\n",
    "    for vector in X_train:\n",
    "        # Calculamos la distancia entre el vector actual y el vector x\n",
    "        distance = euclidean_distance(x, vector)\n",
    "        # Guardamos la distancia en la lista\n",
    "        all_distances.append(distance)\n",
    "        # GUarda la distancia y el vector en el diccionario\n",
    "        distances_dict[distance] = vector\n",
    "    \n",
    "    # Sorteamos todas las distancias\n",
    "    all_distances.sort()\n",
    "    # Guardamos los k vectores más cercanos\n",
    "    k_nearest = [distances_dict[distance] for distance in all_distances[:k]]\n",
    "    \n",
    "    return k_nearest"
   ]
  },
  {
   "cell_type": "code",
   "execution_count": 11,
   "metadata": {},
   "outputs": [
    {
     "name": "stdout",
     "output_type": "stream",
     "text": [
      "Los 2 vectores más cercanos en X_train a x son: [array([0, 0, 0]), array([4, 5, 6])]\n"
     ]
    }
   ],
   "source": [
    "# Ejemplo de uso:\n",
    "x = np.array([1, 2, 3])\n",
    "X_train = np.array([[4, 5, 6], [7, 8, 9], [10, 11, 12], [0, 0, 0]])\n",
    "k = 2\n",
    "\n",
    "nearest = k_nearest_neighbors(x, X_train, k)\n",
    "print(f\"Los {k} vectores más cercanos en X_train a x son:\", nearest)"
   ]
  },
  {
   "cell_type": "markdown",
   "metadata": {},
   "source": [
    "d. Cree una función predict_class que, dado vector 𝑥, una matriz 𝑋_𝑡𝑟𝑎𝑖𝑛, un\n",
    "vector 𝑌_𝑡𝑟𝑎𝑖𝑛, y un entero 𝑘, haga la predicción de cuál debe ser su clase\n",
    "(binaria) según el algoritmo de kNN. Debe utilizar la función\n",
    "k_nearest_neighbors."
   ]
  },
  {
   "cell_type": "code",
   "execution_count": null,
   "metadata": {},
   "outputs": [],
   "source": []
  }
 ],
 "metadata": {
  "kernelspec": {
   "display_name": "env",
   "language": "python",
   "name": "python3"
  },
  "language_info": {
   "codemirror_mode": {
    "name": "ipython",
    "version": 3
   },
   "file_extension": ".py",
   "mimetype": "text/x-python",
   "name": "python",
   "nbconvert_exporter": "python",
   "pygments_lexer": "ipython3",
   "version": "3.8.10"
  }
 },
 "nbformat": 4,
 "nbformat_minor": 2
}
