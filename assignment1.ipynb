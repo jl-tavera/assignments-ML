{
 "cells": [
  {
   "cell_type": "markdown",
   "metadata": {},
   "source": [
    "# Taller 1"
   ]
  },
  {
   "cell_type": "markdown",
   "metadata": {},
   "source": [
    "- Jose Luis Tavera Ruiz (201821999)\n",
    "- Aldemar Figueroa (202021091)\n",
    "- Carlos Rubiano (202013484)\n",
    "- Miguel Vargas (202023269)\n"
   ]
  },
  {
   "cell_type": "markdown",
   "metadata": {},
   "source": [
    "#### Librerias"
   ]
  },
  {
   "cell_type": "code",
   "execution_count": 11,
   "metadata": {},
   "outputs": [],
   "source": [
    "import numpy as np\n",
    "import time"
   ]
  },
  {
   "cell_type": "markdown",
   "metadata": {},
   "source": [
    "#### Primer Punto"
   ]
  },
  {
   "cell_type": "markdown",
   "metadata": {},
   "source": [
    "Para cualquier número 𝑛 > 1 se define la siguiente operación:\n",
    "\n",
    "1. Si el número es par, se divide entre 2.\n",
    "2. Si el número es impar, se multiplica por 3 y se suma 1.\n",
    "3. Si es 1 termina.\n",
    "\n",
    "Se define la secuencia de 𝒏 como la lista de resultados de cada operación hasta llegar\n",
    "a 1. Por ejemplo, la secuencia de 6 es: 6, 3, 10, 5, 16, 8, 4, 2, 1. En este punto solo se\n",
    "pueden utilizar las funcionalidades básicas de Python."
   ]
  },
  {
   "cell_type": "markdown",
   "metadata": {},
   "source": [
    "a. Cree una función que reciba un entero 𝑛 y retorne una lista con la secuencia de 𝑛."
   ]
  },
  {
   "cell_type": "code",
   "execution_count": 10,
   "metadata": {},
   "outputs": [],
   "source": [
    "def sequence(n):\n",
    "    #Primero creamos una lista vacia donde guardaremos los valores de la secuencia\n",
    "    sequence_list = []\n",
    "    # Añadimos el primer valor de la secuencia a la lista\n",
    "    sequence_list.append(n)\n",
    "\n",
    "    #Mientras n sea distinto de 1, se ejecutara el siguiente bucle\n",
    "    while n!=1:\n",
    "\n",
    "        # Si n es par, se divide entre 2\n",
    "        if n%2 == 0:   \n",
    "            n= int(n/2)\n",
    "\n",
    "        # Si n es impar, se multiplica por 3 y se le suma 1\n",
    "        else:\n",
    "            n= int((n*3) + 1)\n",
    "        \n",
    "        # Se añade el valor de n a la lista\n",
    "        sequence_list.append(n)\n",
    "\n",
    "    return sequence_list"
   ]
  },
  {
   "cell_type": "code",
   "execution_count": 54,
   "metadata": {},
   "outputs": [
    {
     "name": "stdout",
     "output_type": "stream",
     "text": [
      "Prueba con n=1\n",
      "[1]\n",
      "\n",
      "Prueba con n=2\n",
      "[2, 1]\n",
      "\n",
      "Prueba con n=3\n",
      "[3, 10, 5, 16, 8, 4, 2, 1]\n",
      "\n",
      "Prueba con n=4\n",
      "[4, 2, 1]\n",
      "\n",
      "Prueba con n=5\n",
      "[5, 16, 8, 4, 2, 1]\n",
      "\n",
      "Prueba con n=6\n",
      "[6, 3, 10, 5, 16, 8, 4, 2, 1]\n",
      "\n",
      "Prueba con n=7\n",
      "[7, 22, 11, 34, 17, 52, 26, 13, 40, 20, 10, 5, 16, 8, 4, 2, 1]\n",
      "\n"
     ]
    }
   ],
   "source": [
    "# Ahora haremos algunas pruebas para comprobar que la funcion sequence(n) funciona correctamente\n",
    "def test_sequence():\n",
    "    # Iteramos sobre los primeros 7 valores de n\n",
    "    for n in range(1, 8):\n",
    "        print(f\"Prueba con n={n}\")\n",
    "        sequence_list = sequence(n)\n",
    "        print(sequence_list)\n",
    "        print()\n",
    "\n",
    "test_sequence()"
   ]
  },
  {
   "cell_type": "markdown",
   "metadata": {},
   "source": [
    "b. Cree una función que reciba un entero 𝑚, retorne el valor 𝑛 tal que su secuencia\n",
    "sea la más larga para los valores menores a 𝑚 y retorne el largo de la secuencia.\n",
    "Utilice el punto a)"
   ]
  },
  {
   "cell_type": "code",
   "execution_count": 61,
   "metadata": {},
   "outputs": [],
   "source": [
    "def longest_sequence(m):\n",
    "    # Definimos n = 0 ya que toda secuencia tiene al menos un valor\n",
    "    n=0\n",
    "    # Definimos longest = 2 \n",
    "    longest = 2\n",
    "    # Hacemos un bucle que recorre todos los valores de la secuencia hasta m\n",
    "    for i in range(2,m):\n",
    "        # Calculamos la secuencia para cada valor de i\n",
    "        sequence_i = sequence(i)\n",
    "        # Calculamos la longitud de la secuencia\n",
    "        length = len(sequence_i)\n",
    "        # Si la longitud de la secuencia es mayor que n, actualizamos n y longest\n",
    "        if length > n:\n",
    "            longest = i\n",
    "            n=length\n",
    "    return (\"Valor: \" + str(longest), \"Longitud: \" + str(n))\n"
   ]
  },
  {
   "cell_type": "code",
   "execution_count": 55,
   "metadata": {},
   "outputs": [
    {
     "name": "stdout",
     "output_type": "stream",
     "text": [
      "Prueba con n=1\n",
      "('Valor: 2', 'Longitud: 0')\n",
      "\n",
      "Prueba con n=2\n",
      "('Valor: 2', 'Longitud: 0')\n",
      "\n",
      "Prueba con n=3\n",
      "('Valor: 2', 'Longitud: 2')\n",
      "\n",
      "Prueba con n=4\n",
      "('Valor: 3', 'Longitud: 8')\n",
      "\n",
      "Prueba con n=5\n",
      "('Valor: 3', 'Longitud: 8')\n",
      "\n",
      "Prueba con n=6\n",
      "('Valor: 3', 'Longitud: 8')\n",
      "\n",
      "Prueba con n=7\n",
      "('Valor: 6', 'Longitud: 9')\n",
      "\n"
     ]
    }
   ],
   "source": [
    "# Ahora haremos algunas pruebas para comprobar que la funcion longest_sequence(m) funciona correctamente\n",
    "def test_longest_sequence():\n",
    "    # Iteramos sobre los primeros 7 valores de n\n",
    "    for n in range(1, 8):\n",
    "        print(f\"Prueba con n={n}\")\n",
    "        print(longest_sequence(n))\n",
    "        print()\n",
    "\n",
    "test_longest_sequence()"
   ]
  },
  {
   "cell_type": "markdown",
   "metadata": {},
   "source": [
    "c. Similar al literal anterior, cree una función que reciba un entero 𝑚 y retorne un\n",
    "diccionario donde las llaves sean enteros y los valores correspondan al largo de\n",
    "las secuencias de cada entero."
   ]
  },
  {
   "cell_type": "code",
   "execution_count": 56,
   "metadata": {},
   "outputs": [],
   "source": [
    "def sequence_dictionary(m):   \n",
    "    #Creamos un diccionario vacio donde guardaremos los valores de la secuencia\n",
    "    all_lengths = {}\n",
    "    #Hace un bucle que recorre todos los valores de la secuencia hasta m\n",
    "    for i in range(2,m):\n",
    "        # Calculamos la secuencia para cada valor de i\n",
    "        sequence_i = sequence(i)\n",
    "        # Calculamos la longitud de la secuencia\n",
    "        length = len(sequence_i)\n",
    "        # Guardamos la longitud de la secuencia en el diccionario\n",
    "        all_lengths[i] = length \n",
    "    # Devolver el diccionario con todas las longitudes\n",
    "    return all_lengths"
   ]
  },
  {
   "cell_type": "code",
   "execution_count": 58,
   "metadata": {},
   "outputs": [
    {
     "name": "stdout",
     "output_type": "stream",
     "text": [
      "Testing sequence_dictionary(2)\n",
      "{}\n",
      "\n",
      "Testing sequence_dictionary(3)\n",
      "{2: 2}\n",
      "\n",
      "Testing sequence_dictionary(4)\n",
      "{2: 2, 3: 8}\n",
      "\n",
      "Testing sequence_dictionary(5)\n",
      "{2: 2, 3: 8, 4: 3}\n",
      "\n",
      "Testing sequence_dictionary(6)\n",
      "{2: 2, 3: 8, 4: 3, 5: 6}\n",
      "\n",
      "Testing sequence_dictionary(7)\n",
      "{2: 2, 3: 8, 4: 3, 5: 6, 6: 9}\n",
      "\n"
     ]
    }
   ],
   "source": [
    "# Ahora haremos algunas pruebas para comprobar que la funcion sequence_dictionary(m) funciona correctamente\n",
    "def test_sequence_dictionary():\n",
    "    # Iteramos sobre los primeros 7 valores de m\n",
    "    for m in range(2, 8):\n",
    "        print(f\"Testing sequence_dictionary({m})\")\n",
    "        result = sequence_dictionary(m)\n",
    "        print(result)\n",
    "        print()\n",
    "\n",
    "test_sequence_dictionary()\n"
   ]
  },
  {
   "cell_type": "markdown",
   "metadata": {},
   "source": [
    "d. Intenté modificar el punto a. y c. para crear una función que utiliza los resultados\n",
    "calculados previamente y retorna un diccionario donde las llaves sean enteros y\n",
    "los valores correspondan al largo de las secuencias de cada entero. Esto debería\n",
    "permitirles crear una función mucho más rápida."
   ]
  },
  {
   "cell_type": "code",
   "execution_count": 60,
   "metadata": {},
   "outputs": [],
   "source": [
    "'''\n",
    "Redefinimos la función del literal a)\n",
    "'''\n",
    "\n",
    "def sequence_2(n, all_lenghts):\n",
    "     #Primero creamos una lista vacia donde guardaremos los valores de la secuencia\n",
    "    sequence_list = []\n",
    "    # Añadimos el primer valor de la secuencia a la lista\n",
    "    sequence_list.append(n)\n",
    "    # Definimos la longitud de la secuencia como 0\n",
    "    length = 0\n",
    "    #Mientras n sea distinto de 1, se ejecutara el siguiente bucle\n",
    "    while n!=1:\n",
    "        # Si n es par, se divide entre 2\n",
    "        if n%2 == 0:   \n",
    "            n= int(n/2)\n",
    "        # Si n es impar, se multiplica por 3 y se le suma 1\n",
    "        else:\n",
    "            n= int((n*3) + 1)\n",
    "\n",
    "        if n not in all_lenghts:\n",
    "            # Se añade el valor de n a la lista\n",
    "            sequence_list.append(n)\n",
    "        else:\n",
    "            # Si n ya se encuentra en el diccionario obtenemos la longitud de la secuencia\n",
    "            length = all_lenghts[n]\n",
    "            break\n",
    "        # Se suma la longitud de la secuencia a la longitud de la secuencia actual\n",
    "    length += len(sequence_list)\n",
    "    # Devolvemos la longitud de la secuencia\n",
    "    return length\n",
    "\n",
    "'''\n",
    "Redefinimos la función del literal c)\n",
    "'''\n",
    "\n",
    "def sequence_dictionary_2(m):\n",
    "    #Creamos un diccionario vacio donde guardaremos los valores de la secuencia \n",
    "    all_lengths = {}\n",
    "    #Hace un bucle que recorre todos los valores de la secuencia hasta m\n",
    "    for i in range(2,m):\n",
    "        # Calculamos la longitud de la secuencia en el diccionario\n",
    "        length = sequence_2(i, all_lengths)\n",
    "        # Guardamos la longitud de la secuencia en el diccionario\n",
    "        all_lengths[i] = length\n",
    "    # Devolvemos el diccionario\n",
    "    return all_lengths"
   ]
  },
  {
   "cell_type": "markdown",
   "metadata": {},
   "source": [
    "e. Prueben las funciones del punto c. y d. con diferentes potencias de 10. \n"
   ]
  },
  {
   "cell_type": "code",
   "execution_count": 65,
   "metadata": {},
   "outputs": [
    {
     "name": "stdout",
     "output_type": "stream",
     "text": [
      "Testing with m=10\n",
      "Execution time for sequence_dictionary: 1.6689300537109375e-05\n",
      "Execution time for sequence_dictionary_2: 1.621246337890625e-05\n",
      "\n",
      "Testing with m=100\n",
      "Execution time for sequence_dictionary: 0.0004730224609375\n",
      "Execution time for sequence_dictionary_2: 0.00015544891357421875\n",
      "\n",
      "Testing with m=1000\n",
      "Execution time for sequence_dictionary: 0.009166479110717773\n",
      "Execution time for sequence_dictionary_2: 0.0011761188507080078\n",
      "\n",
      "Testing with m=10000\n",
      "Execution time for sequence_dictionary: 0.1244969367980957\n",
      "Execution time for sequence_dictionary_2: 0.012537479400634766\n",
      "\n",
      "Testing with m=100000\n",
      "Execution time for sequence_dictionary: 1.6425628662109375\n",
      "Execution time for sequence_dictionary_2: 0.17527341842651367\n",
      "\n",
      "Testing with m=1000000\n",
      "Execution time for sequence_dictionary: 21.968555688858032\n",
      "Execution time for sequence_dictionary_2: 1.63602876663208\n",
      "\n"
     ]
    }
   ],
   "source": [
    "# Hacemos una funcion que mida el tiempo de ejecucion de sequence_dictionary y sequence_dictionary_2\n",
    "def measure_execution_time(func, *args):\n",
    "    # Se empieza a medir el tiempo\n",
    "    start_time = time.time()\n",
    "    # Se usa la funcion que se quiere medir\n",
    "    result = func(*args)\n",
    "    # Se termina de medir el tiempo\n",
    "    end_time = time.time()\n",
    "    # Se calcula el tiempo de ejecucion\n",
    "    execution_time = end_time - start_time\n",
    "    # Se devuelven los resultados\n",
    "    return result, execution_time\n",
    "\n",
    "for power in range(1, 7):\n",
    "    m = 10**power\n",
    "    print(f\"Testing with m={m}\")        \n",
    "    # Medimos el tiempo de ejecucion para sequence_dictionary\n",
    "    result1, execution_time1 = measure_execution_time(sequence_dictionary, m)\n",
    "    # Medimos el tiempo de ejecucion para sequence_dictionary_2\n",
    "    result2, execution_time2 = measure_execution_time(sequence_dictionary_2, m)\n",
    "    # Imprimimos los resultados\n",
    "    print(\"Execution time for sequence_dictionary:\", execution_time1)\n",
    "    print(\"Execution time for sequence_dictionary_2:\", execution_time2)\n",
    "    print()\n",
    "\n",
    "\n"
   ]
  },
  {
   "cell_type": "markdown",
   "metadata": {},
   "source": [
    "#### Segundo Punto"
   ]
  },
  {
   "cell_type": "markdown",
   "metadata": {},
   "source": [
    "En este punto solo se pueden utilizar las operaciones básicas de numpy. Los vectores\n",
    "son arrays en numpy. Pueden asumir que los vectores 𝑌 solo toman dos valores."
   ]
  },
  {
   "cell_type": "markdown",
   "metadata": {},
   "source": [
    "a. Cree una función euclidean_distance que calcule la distancia euclidiana en $\\mathbb{R}^n$ entre dos vectores $x$, $z$."
   ]
  },
  {
   "cell_type": "markdown",
   "metadata": {},
   "source": [
    "Según Stanford (1999), para calcular la distancia euclidiana en  $\\mathbb{R}^n$, simplemente restamos los vectores componente a componente y elevamos al cuadrado. La raíz cuadrada de la suma de los cuadrados corresponde a la métrica euclidiana. Puedes obtener más información en el enlace [Stanford (1999)](https://hlab.stanford.edu/brian/euclidean_distance_in.html).\n"
   ]
  },
  {
   "cell_type": "markdown",
   "metadata": {},
   "source": [
    "$$\n",
    "\\text{distancia} = \\sqrt{\\sum_{i=1}^{n}(x_i - y_i)^2}\n",
    "$$"
   ]
  },
  {
   "cell_type": "code",
   "execution_count": 35,
   "metadata": {},
   "outputs": [],
   "source": [
    "def euclidean_distance(x, z):\n",
    "# Chequeamos si los vectores son del mismo tamaño\n",
    "    if len(x) != len(z):\n",
    "# En caso contrario, levantamos un error\n",
    "        raise ValueError(\"The vectors must be the same size\")\n",
    "    else:\n",
    "        return np.sqrt(np.sum((x - z)**2))"
   ]
  },
  {
   "cell_type": "code",
   "execution_count": 36,
   "metadata": {},
   "outputs": [
    {
     "name": "stdout",
     "output_type": "stream",
     "text": [
      "[1 2 3]\n",
      "[4 5 6]\n",
      "Euclidean Distance: 5.1962\n",
      "\n",
      "[1 2 3 4 5]\n",
      "[ 6  7  8  9 10]\n",
      "Euclidean Distance: 11.1803\n"
     ]
    }
   ],
   "source": [
    "# Probamos la función con algunos ejemplos\n",
    "x = np.array([1, 2, 3])\n",
    "z = np.array([4, 5, 6])\n",
    "print(x)\n",
    "print(z)\n",
    "print(\"Euclidean Distance: \" + str(round(euclidean_distance(x, z), 4)))\n",
    "print(\"\")\n",
    "\n",
    "x = np.array([1, 2, 3, 4, 5])\n",
    "z = np.array([6, 7, 8, 9, 10])\n",
    "print(x)\n",
    "print(z)\n",
    "print(\"Euclidean Distance: \" + str(round(euclidean_distance(x, z), 4)))"
   ]
  },
  {
   "cell_type": "markdown",
   "metadata": {},
   "source": [
    "b. Cree una función nearest_neighbor que, dado un vector 𝑥 y una matriz 𝑋_𝑡𝑟𝑎𝑖𝑛, retorna el vector de los datos de entrenamiento 𝑋_𝑡𝑟𝑎𝑖𝑛 que minimiza la distancia euclidiana a 𝑥. Debe utilizar la función euclidean_distance"
   ]
  },
  {
   "cell_type": "code",
   "execution_count": 37,
   "metadata": {},
   "outputs": [],
   "source": [
    "def nearest_neighbor(x, X_train):\n",
    "    # Definimos la distancia mínima como infinito\n",
    "    min_distance = float('inf')\n",
    "    # Definimos el vector más cercano como None\n",
    "    nearest_vector = None\n",
    "    \n",
    "    # Iteramos sobre cada vector en el conjunto de entrenamiento\n",
    "    for vector in X_train:\n",
    "        # Calculamos la distancia entre el vector actual y el vector x\n",
    "        distance = euclidean_distance(x, vector)\n",
    "        # Si la distancia es menor que la distancia mínima actual\n",
    "        if distance < min_distance:\n",
    "            # Actualizamos la distancia mínima y el vector más cercano\n",
    "            min_distance = distance\n",
    "            nearest_vector = vector\n",
    "    \n",
    "    return nearest_vector"
   ]
  },
  {
   "cell_type": "markdown",
   "metadata": {},
   "source": [
    "c. Cree una función k_nearest_neighbors que, dado un vector 𝑥, una\n",
    "matriz 𝑋_𝑡𝑟𝑎𝑖𝑛 y un entero 𝑘, retorna los k vectores más cercanos de los datos\n",
    "de entrenamiento 𝑋. Debe usar alguna de las funciones creadas previamente"
   ]
  },
  {
   "cell_type": "markdown",
   "metadata": {},
   "source": [
    "Como podemos ver en la referencia anterior para la estructura de datos que vamos a manejar es mejor hacer las operaciones con las estructuras de listas y diccionarios nativas de Python que con los arrays de numpy.  https://stackoverflow.com/questions/70144878/list-append-faster-than-np-append"
   ]
  },
  {
   "cell_type": "code",
   "execution_count": 103,
   "metadata": {},
   "outputs": [],
   "source": [
    "def k_nearest_neighbors(x, X_train, k):\n",
    "    # Creamos un diccionario para guardar las distancias y los vectores\n",
    "    distances_dict = {}\n",
    "    # Creamos una lista para guardar todas las distancias\n",
    "    all_distances = []\n",
    "    # Iteramos sobre cada vector en el conjunto de entrenamiento\n",
    "    for i,vector in enumerate(X_train):\n",
    "        # Calculamos la distancia entre el vector actual y el vector x\n",
    "        distance = euclidean_distance(x, vector)\n",
    "        # Guardamos la distancia en la lista\n",
    "        all_distances.append(distance)\n",
    "        # Guarda la distancia y el vector en el diccionario\n",
    "        distances_dict[distance] = (vector, i)\n",
    "        \n",
    "    \n",
    "    # Sorteamos todas las distancias\n",
    "    all_distances.sort()\n",
    "    # Creamos una lista para guardar los k vectores más cercanos\n",
    "    k_nearest = []\n",
    "    # Creamos una lista para guardar las posiciones de los k vectores más cercanos\n",
    "    k_positions = []\n",
    "    # Iteramos sobre las k distancias más pequeñas\n",
    "    for distance in all_distances[:k]:\n",
    "        # Guardamos los k vectores más cercanos\n",
    "        k_nearest.append(distances_dict[distance][0])\n",
    "        # Guardamos las posiciones de los k vectores más cercanos\n",
    "        k_positions.append(distances_dict[distance][1])\n",
    "    \n",
    "    return k_nearest, k_positions"
   ]
  },
  {
   "cell_type": "code",
   "execution_count": 104,
   "metadata": {},
   "outputs": [
    {
     "name": "stdout",
     "output_type": "stream",
     "text": [
      "Los 2 vectores más cercanos en X_train a x son: ([array([1, 1, 1]), array([0, 0, 0])], [1, 3])\n"
     ]
    }
   ],
   "source": [
    "# Ejemplo de uso:\n",
    "x = np.array([1, 2, 3])\n",
    "X_train = np.array([[4, 5, 6], [1, 1, 1], [10, 11, 12], [0, 0, 0]])\n",
    "k = 2\n",
    "\n",
    "nearest = k_nearest_neighbors(x, X_train, k)\n",
    "print(f\"Los {k} vectores más cercanos en X_train a x son:\", nearest)"
   ]
  },
  {
   "cell_type": "markdown",
   "metadata": {},
   "source": [
    "d. Cree una función predict_class que, dado vector 𝑥, una matriz 𝑋_𝑡𝑟𝑎𝑖𝑛, un\n",
    "vector 𝑌_𝑡𝑟𝑎𝑖𝑛, y un entero 𝑘, haga la predicción de cuál debe ser su clase\n",
    "(binaria) según el algoritmo de kNN. Debe utilizar la función\n",
    "k_nearest_neighbors."
   ]
  },
  {
   "cell_type": "code",
   "execution_count": 106,
   "metadata": {},
   "outputs": [],
   "source": [
    "def predict_class(x, X_train, Y_train, k):\n",
    "    \n",
    "    # Extraemos las posiciones de los k vectores más cercanos\n",
    "    nearest_classes_pos = k_nearest_neighbors(x, X_train, k)[1]   \n",
    "\n",
    "    # Creamos una lista para guardar las clases de los k vectores más cercanos\n",
    "    nearest_classes = []\n",
    "    for position in nearest_classes_pos:\n",
    "        # Extraemos las clases de los k vectores más cercanos y las guardamos en la lista\n",
    "        nearest_classes.append(Y_train[position])\n",
    "     \n",
    "    # Tomamos la clase que más se repite en la lista de clases de los k vectores más cercanos\n",
    "    predicted_class = max(set(nearest_classes), key = nearest_classes.count)\n",
    "    \n",
    "    #Devuelve la clase predicha\n",
    "    return predicted_class\n"
   ]
  },
  {
   "cell_type": "code",
   "execution_count": 107,
   "metadata": {},
   "outputs": [
    {
     "name": "stdout",
     "output_type": "stream",
     "text": [
      "La clase predicha para x es: 0\n"
     ]
    }
   ],
   "source": [
    "# Ejemplo de uso:\n",
    "x = np.array([1, 2, 3])\n",
    "X_train = np.array([[4, 5, 6], [1, 1, 1], [10, 11, 12], [0, 0, 0]])\n",
    "Y_train = np.array([1, 0, 0, 0])\n",
    "k = 2\n",
    "\n",
    "predicted_class = predict_class(x, X_train, Y_train, k)\n",
    "print(f\"La clase predicha para x es:\", predicted_class)"
   ]
  },
  {
   "cell_type": "markdown",
   "metadata": {},
   "source": [
    "e. Cree una función predict_test_set que, dado una matriz 𝑋_𝑡𝑒𝑠𝑡, una\n",
    "matriz 𝑋_𝑡𝑟𝑎𝑖𝑛, un vector 𝑌_𝑡𝑟𝑎𝑖𝑛, y un entero 𝑘 haga la predicción de los\n",
    "vectores en los datos de evaluación 𝑋_𝑡𝑒𝑠𝑡 y retorne sus predicciones en un\n",
    "vector 𝑌_𝑝𝑟𝑒𝑑. Debe utilizar la función predict_class"
   ]
  },
  {
   "cell_type": "code",
   "execution_count": 108,
   "metadata": {},
   "outputs": [],
   "source": [
    "def predict_test_set(X_test, X_train, Y_train, k):\n",
    "    # Crea una lista vacia para guardar las clases predichas\n",
    "    Y_pred = []\n",
    "    \n",
    "    # Itera en cada vector en el conjunto de prueba\n",
    "    for x in X_test:\n",
    "        # Predice la clase para cada vector en el conjunto de prueba\n",
    "        predicted_class = predict_class(x, X_train, Y_train, k)\n",
    "        # Añade la clase predicha a la lista\n",
    "        Y_pred.append(predicted_class)\n",
    "    \n",
    "    # Convierte la lista en un array de numpy\n",
    "    return np.array(Y_pred)\n"
   ]
  },
  {
   "cell_type": "code",
   "execution_count": 110,
   "metadata": {},
   "outputs": [
    {
     "name": "stdout",
     "output_type": "stream",
     "text": [
      "Las clases predichas para X_test son: [0 0]\n"
     ]
    }
   ],
   "source": [
    "# Ejemplo de uso:\n",
    "X_test = np.array([[0, 0, 0], [5, 5, 5]])\n",
    "X_train = np.array([[4, 5, 6], [1, 1, 1], [10, 11, 12], [0, 0, 0]])\n",
    "Y_train = np.array([1, 0, 0, 0])\n",
    "k = 2\n",
    "\n",
    "Y_pred = predict_test_set(X_test, X_train, Y_train, k)\n",
    "print(f\"Las clases predichas para X_test son:\", Y_pred)"
   ]
  },
  {
   "cell_type": "markdown",
   "metadata": {},
   "source": [
    "f. Cree una función calculate_metrics que dado un vector 𝑌_test y un vector\n",
    "𝑌_𝑝𝑟𝑒𝑑. Calcule las siguientes métricas:\n",
    "- Accuracy\n",
    "- Precision\n",
    "- Recall\n",
    "- F1 Score\n",
    "- Specifity\n"
   ]
  },
  {
   "cell_type": "code",
   "execution_count": 118,
   "metadata": {},
   "outputs": [],
   "source": [
    "\n",
    "def calculate_metrics(Y_test, Y_pred):\n",
    "    # True Positives\n",
    "    TP = np.sum((Y_test == 1) & (Y_pred == 1))\n",
    "    # False Positives\n",
    "    FP = np.sum((Y_test == 0) & (Y_pred == 1))\n",
    "    # True Negatives\n",
    "    TN = np.sum((Y_test == 0) & (Y_pred == 0))\n",
    "    # False Negatives\n",
    "    FN = np.sum((Y_test == 1) & (Y_pred == 0))\n",
    "    \n",
    "    # Accuracy\n",
    "    accuracy = (TP + TN) / (TP + FP + TN + FN)\n",
    "    # Precision\n",
    "    precision = TP / (TP + FP)\n",
    "    # Recall\n",
    "    recall = TP / (TP + FN)\n",
    "    # F1 Score\n",
    "    f1_score = 2 * (precision * recall) / (precision + recall)\n",
    "    # Specificity\n",
    "    specificity = TN / (TN + FP)\n",
    "\n",
    "    # Guardamos las métricas en un diccionario\n",
    "    metrics = {\n",
    "        'Accuracy': accuracy,\n",
    "        'Precision': precision,\n",
    "        'Recall': recall,\n",
    "        'F1 Score': f1_score,\n",
    "        'Specificity': specificity\n",
    "    }\n",
    "    \n",
    "    return metrics\n",
    "    \n"
   ]
  },
  {
   "cell_type": "code",
   "execution_count": 119,
   "metadata": {},
   "outputs": [
    {
     "name": "stdout",
     "output_type": "stream",
     "text": [
      "{'Accuracy': 0.875, 'Precision': 0.8, 'Recall': 1.0, 'F1 Score': 0.888888888888889, 'Specificity': 0.75}\n"
     ]
    }
   ],
   "source": [
    "# Ejemplo de uso para kNN\n",
    "Y_test = np.array([1, 0, 0, 1, 1, 0, 1, 0])\n",
    "Y_pred = np.array([1, 1, 0, 1, 1, 0, 1, 0])\n",
    "metrics = calculate_metrics(Y_test, Y_pred)\n",
    "print(metrics)\n",
    "\n"
   ]
  },
  {
   "cell_type": "markdown",
   "metadata": {},
   "source": [
    "#### Tercer Punto"
   ]
  },
  {
   "cell_type": "markdown",
   "metadata": {},
   "source": [
    "##### Librerias"
   ]
  },
  {
   "cell_type": "code",
   "execution_count": 15,
   "metadata": {},
   "outputs": [],
   "source": [
    "from sklearn.datasets import make_classification\n",
    "from sklearn.neighbors import KNeighborsClassifier\n",
    "from sklearn.model_selection import cross_val_score\n",
    "import numpy as np\n",
    "import pandas as pd\n",
    "import matplotlib.pyplot as plt"
   ]
  },
  {
   "cell_type": "markdown",
   "metadata": {},
   "source": [
    "Recrear el experimento en el libro Elements of Statistical Learning 7.10.2 The Wrong\n",
    "and Right Way to Do Cross-validation.\n"
   ]
  },
  {
   "cell_type": "markdown",
   "metadata": {},
   "source": [
    "Considera un escenario con N = 50 muestras en dos clases de tamaño igual, y p = 5000 predictores cuantitativos (distribuidos normal estándar) que son independientes de las etiquetas de clase. La tasa de error verdadera (de prueba) de cualquier clasificador es del 50%. "
   ]
  },
  {
   "cell_type": "code",
   "execution_count": 16,
   "metadata": {},
   "outputs": [],
   "source": [
    "# En este caso lo volvemos una función general para que sea más fácil de usar\n",
    "\n",
    "def create_synth_df(N, p):\n",
    "    # Hacemos un dataset sintético con 5000 predictores\n",
    "    synthetic_dataset, labels = make_classification(\n",
    "        n_samples=N,  # Total de muestras\n",
    "        n_features=p,  # Numero de predictores\n",
    "        n_classes=2,  # Numero de clases\n",
    "        n_clusters_per_class=1,  # Numero de clusters por clase\n",
    "        weights=[0.5, 0.5],  # Pesos de las clases\n",
    "    )\n",
    "    \n",
    "    # Creamos un dataframe con el dataset sintético\n",
    "    df = pd.DataFrame(synthetic_dataset, columns=[f\"predictor_{i}\" for i in range(p)])\n",
    "    # Añadimos la columna de las etiquetas\n",
    "    df['label'] = labels\n",
    "    \n",
    "    return df\n"
   ]
  },
  {
   "cell_type": "markdown",
   "metadata": {},
   "source": [
    "Primero, calculamos Los 100 predictores con la mayor correlación con las etiquetas de clase."
   ]
  },
  {
   "cell_type": "code",
   "execution_count": 17,
   "metadata": {},
   "outputs": [],
   "source": [
    "#Generalizamos la función para que pueda tomar los mejores predictores de cualquier dataframe\n",
    "\n",
    "def get_top_predictors(df, n):\n",
    "    # Calculamos la matriz de correlación\n",
    "    correlation_matrix = df.corr()\n",
    "    # Tomamos los 100 predictores con mayor correlación con la variable objetivo\n",
    "    top_predictors = correlation_matrix['label'].nlargest(n).index.tolist()\n",
    "    #Devolver los n predictores con mayor correlación\n",
    "    return top_predictors\n"
   ]
  },
  {
   "cell_type": "markdown",
   "metadata": {},
   "source": [
    "Hacemos 5-Fold Cross-validation con el class label usando un 1-nearest neighbor classifier"
   ]
  },
  {
   "cell_type": "code",
   "execution_count": 18,
   "metadata": {},
   "outputs": [],
   "source": [
    "def kNN_top_cv_error(df, top_predictors):\n",
    "    # Tomamos los 100 predictores con mayor correlación con la variable objetivo\n",
    "    X = df[top_predictors].values\n",
    "    Y = df['label'].values\n",
    "    \n",
    "    # Creamos un clasificador kNN\n",
    "    knn = KNeighborsClassifier(n_neighbors=1)\n",
    "    # Calculamos el accuracy usando validación cruzada\n",
    "    accuracy = cross_val_score(knn, X, Y, cv=5, scoring='accuracy').mean()\n",
    "    #Calculamos el CV error\n",
    "    cv_error = 1 - accuracy\n",
    "    #Devuelve el error de validación cruzada\n",
    "    return cv_error"
   ]
  },
  {
   "cell_type": "markdown",
   "metadata": {},
   "source": [
    "Para hacerlo de la forma correcta hacemos el mismo clasificador pero usando todos los predictores"
   ]
  },
  {
   "cell_type": "code",
   "execution_count": 19,
   "metadata": {},
   "outputs": [],
   "source": [
    "# Generalizamos la función para que pueda tomar cualquier dataframe\n",
    "def kNN_cv_error(df):\n",
    "    #Tomamos el dataframe inicial \n",
    "    X = df.drop('label', axis=1).values\n",
    "    Y = df['label'].values\n",
    "    #Creamos un clasificador kNN\n",
    "    knn = KNeighborsClassifier(n_neighbors=1)\n",
    "    #Calculamos el accuracy usando validación cruzada\n",
    "    accuracy = cross_val_score(knn, X, Y, cv=5, scoring='accuracy').mean()\n",
    "    #Calculamos el CV error\n",
    "    cv_error = 1 - accuracy\n",
    "    #Devuelve el error de validación cruzada\n",
    "    return cv_error"
   ]
  },
  {
   "cell_type": "markdown",
   "metadata": {},
   "source": [
    "Hacemos 50 simulaciones y calculamos el cv error para ambos casos"
   ]
  },
  {
   "cell_type": "code",
   "execution_count": null,
   "metadata": {},
   "outputs": [],
   "source": [
    "cv_top_errors = []\n",
    "cv_errors = []\n",
    "\n",
    "for i in range(50):\n",
    "    df = create_synth_df(50, 5000)\n",
    "    top_predictors = get_top_predictors(df, 100)\n",
    "\n",
    "    cv_error = kNN_top_cv_error(df, top_predictors)\n",
    "    cv_error2 = kNN_cv_error(df)\n",
    "\n",
    "    cv_top_errors.append(cv_error)\n",
    "    cv_errors.append(cv_error2)\n",
    "\n",
    "\n",
    "print(\"CV Errors for top predictors:\", cv_top_errors)\n",
    "print(\"CV Errors for all predictors:\", cv_errors)\n",
    "    "
   ]
  },
  {
   "cell_type": "code",
   "execution_count": 21,
   "metadata": {},
   "outputs": [
    {
     "data": {
      "image/png": "[encoded data removed]",
      "text/plain": [
       "<Figure size 640x480 with 1 Axes>"
      ]
     },
     "metadata": {},
     "output_type": "display_data"
    }
   ],
   "source": [
    "# Creamos un histograma con los errores de validación cruzada\n",
    "fig, ax = plt.subplots()\n",
    "\n",
    "# Hacemos un histograma para cv_errors\n",
    "ax.hist(cv_errors, bins=10, alpha=0.5, label='cv_errors', color='red')\n",
    "\n",
    "# Hacemos un histograma para cv_top_errors\n",
    "ax.hist(cv_top_errors, bins=10, alpha=0.5, label='cv_top_errors', color='green')\n",
    "\n",
    "# Añadimos etiquetas\n",
    "ax.set_xlabel('Error')\n",
    "ax.set_ylabel('Frequency')\n",
    "ax.set_title('Frequency Histogram')\n",
    "\n",
    "# Añadimos una leyenda\t\n",
    "ax.legend()\n",
    "\n",
    "# Mostamos el histograma\n",
    "plt.show()\n"
   ]
  },
  {
   "cell_type": "markdown",
   "metadata": {},
   "source": [
    "Durante 50 simulaciones de esta configuración, la tasa de error promedio de validación cruzada fue del 3%. Esto es considerablemente más bajo que la tasa de error verdadera del 50%."
   ]
  },
  {
   "cell_type": "code",
   "execution_count": 22,
   "metadata": {},
   "outputs": [
    {
     "name": "stdout",
     "output_type": "stream",
     "text": [
      "Mean CV error for all predictors: 0.482\n",
      "Mean CV error for top predictors: 0.021\n"
     ]
    }
   ],
   "source": [
    "\n",
    "# Calculamos la media de los errores de validación cruzada\n",
    "mean_cv_error = round(np.mean(cv_errors), 3)\n",
    "mean_cv_top_error = round(np.mean(cv_top_errors), 3)\n",
    "\n",
    "# Imprimimos los resultados\n",
    "print(f\"Mean CV error for all predictors: {mean_cv_error}\")\n",
    "print(f\"Mean CV error for top predictors: {mean_cv_top_error}\")\n",
    "\n"
   ]
  },
  {
   "cell_type": "markdown",
   "metadata": {},
   "source": [
    "#### Punto Cuatro"
   ]
  },
  {
   "cell_type": "markdown",
   "metadata": {},
   "source": [
    "Descargar el archivo classification_datasaet.csv."
   ]
  },
  {
   "cell_type": "code",
   "execution_count": 1,
   "metadata": {},
   "outputs": [],
   "source": [
    "import numpy as np\n",
    "import pandas as pd\n",
    "import matplotlib as plt\n",
    "import seaborn as sns"
   ]
  },
  {
   "cell_type": "code",
   "execution_count": 30,
   "metadata": {},
   "outputs": [],
   "source": [
    "# Abrimos el archivo csv\n",
    "df = pd.read_csv('classification_dataset.csv')"
   ]
  },
  {
   "cell_type": "code",
   "execution_count": 3,
   "metadata": {},
   "outputs": [
    {
     "name": "stdout",
     "output_type": "stream",
     "text": [
      "   feature_0  feature_1  feature_2  feature_3  feature_4  feature_5  \\\n",
      "0  -0.479989   1.076387   0.274466   0.057739   1.656022  -1.049337   \n",
      "1  -0.239811  -0.108878  -0.386170  -0.905932   0.370415   0.599711   \n",
      "2  -0.641161   0.796919   0.525696   0.127154  -2.985255  -0.881128   \n",
      "3   0.248545  -0.154218   0.733516   0.703259   0.470113  -1.067296   \n",
      "4  -0.475043  -2.602638  -1.333294   0.260551  -1.527103   0.391718   \n",
      "\n",
      "   feature_6  feature_7  feature_8  feature_9  target  \n",
      "0   0.150677   0.751501  -0.076891   1.016506       1  \n",
      "1   2.209090  -1.049893  -0.433789   2.505085       1  \n",
      "2  -0.928485   0.384747   0.814817   0.066508       1  \n",
      "3  -1.474869   0.409360   0.426057  -1.748092       0  \n",
      "4   3.191274  -2.861860  -1.063157   1.275427       0  \n"
     ]
    }
   ],
   "source": [
    "# Muestra las primeras 5 filas del dataframe\n",
    "print(df.head())\n"
   ]
  },
  {
   "cell_type": "code",
   "execution_count": 4,
   "metadata": {},
   "outputs": [
    {
     "name": "stdout",
     "output_type": "stream",
     "text": [
      "Shape del dataframe: (1000, 11)\n"
     ]
    }
   ],
   "source": [
    "# Calcula el número de filas y columnas del dataframe\n",
    "print(\"Shape del dataframe:\", df.shape)\n"
   ]
  },
  {
   "cell_type": "code",
   "execution_count": 5,
   "metadata": {},
   "outputs": [
    {
     "name": "stdout",
     "output_type": "stream",
     "text": [
      "Data types of each column:\n",
      "feature_0    float64\n",
      "feature_1    float64\n",
      "feature_2    float64\n",
      "feature_3    float64\n",
      "feature_4    float64\n",
      "feature_5    float64\n",
      "feature_6    float64\n",
      "feature_7    float64\n",
      "feature_8    float64\n",
      "feature_9    float64\n",
      "target         int64\n",
      "dtype: object\n"
     ]
    }
   ],
   "source": [
    "# Muestra el tipo de dato de cada columna\n",
    "print(\"Data types of each column:\")\n",
    "print(df.dtypes)\n"
   ]
  },
  {
   "cell_type": "code",
   "execution_count": 6,
   "metadata": {},
   "outputs": [
    {
     "name": "stdout",
     "output_type": "stream",
     "text": [
      "Missing values por Columna:\n",
      "feature_0    0\n",
      "feature_1    0\n",
      "feature_2    0\n",
      "feature_3    0\n",
      "feature_4    0\n",
      "feature_5    0\n",
      "feature_6    0\n",
      "feature_7    0\n",
      "feature_8    0\n",
      "feature_9    0\n",
      "target       0\n",
      "dtype: int64\n"
     ]
    }
   ],
   "source": [
    "# Chequeamos si hay valores faltantes\n",
    "print(\"Missing values por Columna:\")\n",
    "print(df.isnull().sum())\n"
   ]
  },
  {
   "cell_type": "code",
   "execution_count": 7,
   "metadata": {},
   "outputs": [
    {
     "name": "stdout",
     "output_type": "stream",
     "text": [
      "Basic statistics of the numerical columns:\n",
      "         feature_0    feature_1    feature_2    feature_3    feature_4  \\\n",
      "count  1000.000000  1000.000000  1000.000000  1000.000000  1000.000000   \n",
      "mean     -0.004543    -0.032966     0.057683     0.007632     0.012276   \n",
      "std       1.002503     1.145290     0.955562     1.009872     0.980226   \n",
      "min      -4.032602    -5.051559    -3.437063    -4.267186    -3.253993   \n",
      "25%      -0.652377    -0.724177    -0.569093    -0.668221    -0.633988   \n",
      "50%       0.044962    -0.102816     0.045899     0.045645     0.016508   \n",
      "75%       0.646045     0.553662     0.703013     0.668420     0.686445   \n",
      "max       3.249901     4.594686     2.710780     2.799294     3.027182   \n",
      "\n",
      "         feature_5    feature_6    feature_7    feature_8    feature_9  \\\n",
      "count  1000.000000  1000.000000  1000.000000  1000.000000  1000.000000   \n",
      "mean      0.021229     0.171337    -0.127766    -0.003169     0.198735   \n",
      "std       0.998634     1.540330     1.056942     1.071977     1.000881   \n",
      "min      -3.063942    -4.835950    -3.317522    -4.814347    -3.499941   \n",
      "25%      -0.683372    -0.888353    -0.742152    -0.694583    -0.380670   \n",
      "50%       0.038008     0.042526    -0.255887     0.086531     0.386678   \n",
      "75%       0.715232     1.174232     0.528072     0.691234     0.745101   \n",
      "max       3.121180     6.762730     3.678459     3.331401     3.375467   \n",
      "\n",
      "            target  \n",
      "count  1000.000000  \n",
      "mean      0.298000  \n",
      "std       0.457608  \n",
      "min       0.000000  \n",
      "25%       0.000000  \n",
      "50%       0.000000  \n",
      "75%       1.000000  \n",
      "max       1.000000  \n"
     ]
    }
   ],
   "source": [
    "# Muestra las estadísticas básicas de las columnas numéricas\n",
    "print(\"Basic statistics of the numerical columns:\")\n",
    "print(df.describe())\n"
   ]
  },
  {
   "cell_type": "code",
   "execution_count": 8,
   "metadata": {},
   "outputs": [
    {
     "name": "stdout",
     "output_type": "stream",
     "text": [
      "Distribución de la variable target:\n",
      "target\n",
      "0    702\n",
      "1    298\n",
      "Name: count, dtype: int64\n"
     ]
    }
   ],
   "source": [
    "# Chequea la distribución de la variable target\n",
    "print(\"Distribución de la variable target:\")\n",
    "print(df['target'].value_counts())\n",
    "\n"
   ]
  },
  {
   "cell_type": "code",
   "execution_count": 9,
   "metadata": {},
   "outputs": [
    {
     "data": {
      "image/png": "[encoded data removed]",
      "text/plain": [
       "<Figure size 1200x1200 with 10 Axes>"
      ]
     },
     "metadata": {},
     "output_type": "display_data"
    }
   ],
   "source": [
    "import matplotlib.pyplot as plt\n",
    "# Toma la lista de features\n",
    "features = df.columns[:-1]\n",
    "\n",
    "# Calcula el número de filas y columnas para los subplots\n",
    "num_rows = (len(features) - 1) // 2 + 1\n",
    "num_cols = min(len(features), 2)\n",
    "\n",
    "# Crea una figura y un conjunto de subplots\n",
    "fig, axes = plt.subplots(num_rows, num_cols, figsize=(12, 12))\n",
    "\n",
    "# Itera sobre cada feature y crea un scatter plot\n",
    "for i, feature in enumerate(features):\n",
    "    row = i // num_cols\n",
    "    col = i % num_cols\n",
    "    ax = axes[row, col]\n",
    "    sns.scatterplot(data=df, x=feature, y='target', ax=ax)\n",
    "    ax.set_xlabel(feature)\n",
    "    ax.set_ylabel('target')\n",
    "\n",
    "# Ajusta el layout\n",
    "plt.tight_layout()\n",
    "\n",
    "# Muestra el plot\n",
    "plt.show()\n",
    "\n",
    "\n",
    "\n"
   ]
  },
  {
   "cell_type": "markdown",
   "metadata": {},
   "source": [
    "a. Entrenar un modelo que optimice la predicción de ambas clases.\n"
   ]
  },
  {
   "cell_type": "markdown",
   "metadata": {},
   "source": [
    "##### Regresión Logísitica"
   ]
  },
  {
   "cell_type": "code",
   "execution_count": 31,
   "metadata": {},
   "outputs": [
    {
     "name": "stdout",
     "output_type": "stream",
     "text": [
      "Accuracy: 0.751\n",
      "Precision: 0.689476911976912\n",
      "Recall: 0.325632183908046\n",
      "F1: 0.43718418300701034\n",
      "Specificity: 0.9317102615694164\n"
     ]
    }
   ],
   "source": [
    "from sklearn.model_selection import StratifiedKFold\n",
    "from sklearn.linear_model import LogisticRegression\n",
    "from sklearn.metrics import precision_score, recall_score, f1_score, accuracy_score\n",
    "\n",
    "# Definimos el número de splits\n",
    "n_splits = 10\n",
    "# Defininimos las features y la variable objetivo\n",
    "X = df.drop('target', axis=1)\n",
    "y = df['target']\n",
    "# Hacemos una instancia de StratifiedKFold por la diferencia de clases\n",
    "sgkf = StratifiedKFold(n_splits=n_splits, random_state=42, shuffle=True)\n",
    "# Inicializamos el modelo de regresión logística\n",
    "logreg = LogisticRegression()\n",
    "#Creamos una lista vacia para guardar accuracy, precision, recall, f1 y specificity\n",
    "accuracy_list = []\n",
    "precision_list = []\n",
    "recall_list = []\n",
    "f1_list = []\n",
    "specificity_list = []\n",
    "# Hacemos un bucle sobre cada split\n",
    "for train_index, test_index in sgkf.split(X, y):\n",
    "    X_train, X_test = X.iloc[train_index], X.iloc[test_index]\n",
    "    y_train, y_test = y.iloc[train_index], y.iloc[test_index]\n",
    "    \n",
    "    # Entrenamos el modelo de regresión logística\n",
    "    logreg.fit(X_train, y_train)\n",
    "    # Hacemos predicciones\n",
    "    y_pred = logreg.predict(X_test)\n",
    "    # Calculamos accuracy, precision, recall, f1 y specificity\n",
    "    accuracy = accuracy_score(y_test, y_pred)\n",
    "    precision = precision_score(y_test, y_pred)\n",
    "    recall = recall_score(y_test, y_pred)\n",
    "    f1 = f1_score(y_test, y_pred)\n",
    "    specificity = recall_score(y_test, y_pred, pos_label=0)\n",
    "    # Y los añadimos a las listas\n",
    "    accuracy_list.append(accuracy)\n",
    "    precision_list.append(precision)\n",
    "    recall_list.append(recall)\n",
    "    f1_list.append(f1)\n",
    "    specificity_list.append(specificity)\n",
    "\n",
    "# Calculamos la media de cada métrica\n",
    "accuracy = np.mean(accuracy_list)\n",
    "precision = np.mean(precision_list)\n",
    "recall = np.mean(recall_list)\n",
    "f1 = np.mean(f1_list)\n",
    "specificity = np.mean(specificity_list)\n",
    "\n",
    "# Imprimimos los resultados\n",
    "print(f\"Accuracy: {accuracy}\")\n",
    "print(f\"Precision: {precision}\")\n",
    "print(f\"Recall: {recall}\")\n",
    "print(f\"F1: {f1}\")\n",
    "print(f\"Specificity: {specificity}\")\n",
    "\n"
   ]
  },
  {
   "cell_type": "code",
   "execution_count": 24,
   "metadata": {},
   "outputs": [
    {
     "data": {
      "image/png": "[encoded data removed]",
      "text/plain": [
       "<Figure size 640x480 with 2 Axes>"
      ]
     },
     "metadata": {},
     "output_type": "display_data"
    }
   ],
   "source": [
    "import seaborn as sns\n",
    "import matplotlib.pyplot as plt\n",
    "from sklearn.metrics import confusion_matrix\n",
    "\n",
    "y_true = y_test\n",
    "y_pred = y_pred\n",
    "\n",
    "# Creamos la matriz de confusión\n",
    "cm = confusion_matrix(y_true, y_pred)\n",
    "\n",
    "# Ploteamos la matriz de confusión\n",
    "sns.heatmap(cm, annot=True, cmap='Blues', fmt='d')\n",
    "\n",
    "# Añadimos etiquetas\n",
    "plt.xlabel('Predicted')\n",
    "plt.ylabel('True')\n",
    "plt.title('Confusion Matrix')\n",
    "\n",
    "# Mostramos el plot\n",
    "plt.show()\n"
   ]
  },
  {
   "cell_type": "markdown",
   "metadata": {},
   "source": [
    "##### Random Forest"
   ]
  },
  {
   "cell_type": "code",
   "execution_count": 25,
   "metadata": {},
   "outputs": [
    {
     "name": "stdout",
     "output_type": "stream",
     "text": [
      "Accuracy: 0.8100000000000002\n",
      "Precision: 0.7802559428875218\n",
      "Recall: 0.5035632183908045\n",
      "F1: 0.6107767209447881\n",
      "Specificity: 0.9401408450704224\n"
     ]
    }
   ],
   "source": [
    "from sklearn.ensemble import RandomForestClassifier\n",
    "\n",
    "# Inicializamos el modelo de Random Forest\n",
    "rf = RandomForestClassifier(n_estimators=100, random_state=42)\n",
    "# Creamos listas vacias para guardar accuracy, precision, recall, f1 y specificity\n",
    "accuracy_list = []\n",
    "precision_list = []\n",
    "recall_list = []\n",
    "f1_list = []\n",
    "specificity_list = []\n",
    "\n",
    "# Hacemos un bucle sobre cada split\n",
    "for train_index, test_index in sgkf.split(X, y):\n",
    "    X_train, X_test = X.iloc[train_index], X.iloc[test_index]\n",
    "    y_train, y_test = y.iloc[train_index], y.iloc[test_index]\n",
    "    # Entremanos el modelo de Random Forest\n",
    "    rf.fit(X_train, y_train)\n",
    "    # Hacemos predicciones\n",
    "    y_pred = rf.predict(X_test)\n",
    "    # Calculamos accuracy, precision, recall, f1 y specificity\n",
    "    accuracy = accuracy_score(y_test, y_pred)\n",
    "    precision = precision_score(y_test, y_pred)\n",
    "    recall = recall_score(y_test, y_pred)\n",
    "    f1 = f1_score(y_test, y_pred)\n",
    "    specificity = recall_score(y_test, y_pred, pos_label=0)\n",
    "    # Y los añadimos a las listas\n",
    "    accuracy_list.append(accuracy)\n",
    "    precision_list.append(precision)\n",
    "    recall_list.append(recall)\n",
    "    f1_list.append(f1)\n",
    "    specificity_list.append(specificity)\n",
    "\n",
    "# Calculamos la media de cada métrica\n",
    "accuracy = np.mean(accuracy_list)\n",
    "precision = np.mean(precision_list)\n",
    "recall = np.mean(recall_list)\n",
    "f1 = np.mean(f1_list)\n",
    "specificity = np.mean(specificity_list)\n",
    "# Imprimimos los resultados\n",
    "print(f\"Accuracy: {accuracy}\")\n",
    "print(f\"Precision: {precision}\")\n",
    "print(f\"Recall: {recall}\")\n",
    "print(f\"F1: {f1}\")\n",
    "print(f\"Specificity: {specificity}\")\n"
   ]
  },
  {
   "cell_type": "code",
   "execution_count": 26,
   "metadata": {},
   "outputs": [
    {
     "data": {
      "image/png": "[encoded data removed]",
      "text/plain": [
       "<Figure size 640x480 with 2 Axes>"
      ]
     },
     "metadata": {},
     "output_type": "display_data"
    }
   ],
   "source": [
    "import seaborn as sns\n",
    "import matplotlib.pyplot as plt\n",
    "from sklearn.metrics import confusion_matrix\n",
    "\n",
    "\n",
    "y_true = y_test\n",
    "y_pred = y_pred\n",
    "\n",
    "# Creamos la matriz de confusión\n",
    "cm = confusion_matrix(y_true, y_pred)\n",
    "\n",
    "# Ploteamos la matriz de confusión\n",
    "sns.heatmap(cm, annot=True, cmap='Blues', fmt='d')\n",
    "\n",
    "# Añadimos etiquetas\n",
    "plt.xlabel('Predicted')\n",
    "plt.ylabel('True')\n",
    "plt.title('Confusion Matrix')\n",
    "\n",
    "# Mostramos el plot\n",
    "plt.show()"
   ]
  },
  {
   "cell_type": "markdown",
   "metadata": {},
   "source": [
    "##### K Nearest Neighbors"
   ]
  },
  {
   "cell_type": "code",
   "execution_count": 32,
   "metadata": {},
   "outputs": [
    {
     "name": "stdout",
     "output_type": "stream",
     "text": [
      "Best k: 5\n",
      "Best accuracy: 0.748\n",
      "Best precision: 0.8335148387096774\n",
      "Best recall: 0.837\n",
      "Best f1 score: 0.8296523804777137\n"
     ]
    }
   ],
   "source": [
    "from sklearn.neighbors import KNeighborsClassifier\n",
    "from sklearn.model_selection import cross_val_score\n",
    "from sklearn.metrics import accuracy_score, precision_score, recall_score, f1_score\n",
    "\n",
    "\n",
    "def knn_classification(X, y, k_max):    \n",
    "    best_accuracy = 0\n",
    "    best_k = 0\n",
    "    \n",
    "    for k in range(3, k_max):\n",
    "        # Creamos un clasificador kNN\n",
    "        knn = KNeighborsClassifier(n_neighbors=k, metric='euclidean')\n",
    "        # Hacemos validación cruzada\n",
    "        scores = cross_val_score(knn, X, y, cv=10)\n",
    "        # Calculamos la media de los scores\n",
    "        accuracy = scores.mean()\n",
    "        precision = precision_score(y, knn.fit(X, y).predict(X), average='weighted')\n",
    "        recall = recall_score(y, knn.fit(X, y).predict(X), average='weighted')\n",
    "        f1 = f1_score(y, knn.fit(X, y).predict(X), average='weighted')       \n",
    "        # Chequeamos si el accuracy es mejor que el mejor accuracy actual\n",
    "        if accuracy > best_accuracy:\n",
    "            # Si es mejor, actualizamos el mejor accuracy y el mejor k\n",
    "            best_accuracy = accuracy\n",
    "            best_k = k\n",
    "            best_precision = precision\n",
    "            best_recall = recall\n",
    "            best_f1_score = f1\n",
    "    # Imprimimos los resultados\n",
    "    print(f\"Best k: {best_k}\")\n",
    "    print(f\"Best accuracy: {best_accuracy}\")\n",
    "    print(f\"Best precision: {best_precision}\")\n",
    "    print(f\"Best recall: {best_recall}\")\n",
    "    print(f\"Best f1 score: {best_f1_score}\")\n",
    "    \n",
    "    return None\n",
    "\n",
    "X = df.drop('target', axis=1)\n",
    "y = df['target']\n",
    "k_max = 100\n",
    "\n",
    "knn_classification(X, y, k_max)"
   ]
  },
  {
   "cell_type": "markdown",
   "metadata": {},
   "source": [
    "b. Entrenar un modelo que optimice la predicción de la clase 0."
   ]
  },
  {
   "cell_type": "markdown",
   "metadata": {},
   "source": [
    "##### Regresión Logística"
   ]
  },
  {
   "cell_type": "code",
   "execution_count": 11,
   "metadata": {},
   "outputs": [
    {
     "name": "stdout",
     "output_type": "stream",
     "text": [
      "Accuracy: 0.701\n",
      "Precision: 0.1\n",
      "Recall: 0.003333333333333333\n",
      "F1: 0.0064516129032258064\n",
      "Specificity: 0.003333333333333333\n"
     ]
    },
    {
     "name": "stderr",
     "output_type": "stream",
     "text": [
      "/home/tavera/projects/assignments-ML/env/lib/python3.8/site-packages/sklearn/metrics/_classification.py:1471: UndefinedMetricWarning: Precision is ill-defined and being set to 0.0 due to no predicted samples. Use `zero_division` parameter to control this behavior.\n",
      "  _warn_prf(average, modifier, msg_start, len(result))\n",
      "/home/tavera/projects/assignments-ML/env/lib/python3.8/site-packages/sklearn/metrics/_classification.py:1471: UndefinedMetricWarning: Precision is ill-defined and being set to 0.0 due to no predicted samples. Use `zero_division` parameter to control this behavior.\n",
      "  _warn_prf(average, modifier, msg_start, len(result))\n",
      "/home/tavera/projects/assignments-ML/env/lib/python3.8/site-packages/sklearn/metrics/_classification.py:1471: UndefinedMetricWarning: Precision is ill-defined and being set to 0.0 due to no predicted samples. Use `zero_division` parameter to control this behavior.\n",
      "  _warn_prf(average, modifier, msg_start, len(result))\n",
      "/home/tavera/projects/assignments-ML/env/lib/python3.8/site-packages/sklearn/metrics/_classification.py:1471: UndefinedMetricWarning: Precision is ill-defined and being set to 0.0 due to no predicted samples. Use `zero_division` parameter to control this behavior.\n",
      "  _warn_prf(average, modifier, msg_start, len(result))\n",
      "/home/tavera/projects/assignments-ML/env/lib/python3.8/site-packages/sklearn/metrics/_classification.py:1471: UndefinedMetricWarning: Precision is ill-defined and being set to 0.0 due to no predicted samples. Use `zero_division` parameter to control this behavior.\n",
      "  _warn_prf(average, modifier, msg_start, len(result))\n",
      "/home/tavera/projects/assignments-ML/env/lib/python3.8/site-packages/sklearn/metrics/_classification.py:1471: UndefinedMetricWarning: Precision is ill-defined and being set to 0.0 due to no predicted samples. Use `zero_division` parameter to control this behavior.\n",
      "  _warn_prf(average, modifier, msg_start, len(result))\n",
      "/home/tavera/projects/assignments-ML/env/lib/python3.8/site-packages/sklearn/metrics/_classification.py:1471: UndefinedMetricWarning: Precision is ill-defined and being set to 0.0 due to no predicted samples. Use `zero_division` parameter to control this behavior.\n",
      "  _warn_prf(average, modifier, msg_start, len(result))\n"
     ]
    }
   ],
   "source": [
    "from sklearn.model_selection import StratifiedKFold\n",
    "from sklearn.linear_model import LogisticRegression\n",
    "from sklearn.metrics import precision_score, recall_score, f1_score, accuracy_score\n",
    "\n",
    "# Definimos el número de splits\n",
    "n_splits = 10\n",
    "# Definimos las features y la variable objetivo\n",
    "X = df.drop('target', axis=1)\n",
    "y = df['target']\n",
    "# Hacemos una instancia de StratifiedKFold por la diferencia de clases\n",
    "sgkf = StratifiedKFold(n_splits=n_splits, random_state=42, shuffle=True)\n",
    "# Inicializamos el modelo de regresión logística\n",
    "logreg = LogisticRegression(class_weight={0: 10, 1: 1})  # Ajustamos los pesos de las clases\n",
    "# Creamos listas vacias para guardar accuracy, precision, recall, f1 y specificity\n",
    "accuracy_list = []\n",
    "precision_list = []\n",
    "recall_list = []\n",
    "f1_list = []\n",
    "specificity_list = []\n",
    "# Hacemos un bucle sobre cada split\n",
    "for train_index, test_index in sgkf.split(X, y):\n",
    "    X_train, X_test = X.iloc[train_index], X.iloc[test_index]\n",
    "    y_train, y_test = y.iloc[train_index], y.iloc[test_index]\n",
    "    \n",
    "    # Entrenamos el modelo de regresión logística\n",
    "    logreg.fit(X_train, y_train)\n",
    "    # Hacemos predicciones\n",
    "    y_pred = logreg.predict(X_test)\n",
    "    # Calculamos accuracy, precision, recall, f1 y specificity\n",
    "    accuracy = accuracy_score(y_test, y_pred)\n",
    "    precision = precision_score(y_test, y_pred)\n",
    "    recall = recall_score(y_test, y_pred)\n",
    "    f1 = f1_score(y_test, y_pred)\n",
    "    specificity = recall_score(y_test, y_pred, pos_label=1)\n",
    "    # Y los añadimos a las listas\n",
    "    accuracy_list.append(accuracy)\n",
    "    precision_list.append(precision)\n",
    "    recall_list.append(recall)\n",
    "    f1_list.append(f1)\n",
    "    specificity_list.append(specificity)\n",
    "\n",
    "# Calculamos la media de cada métrica\n",
    "accuracy = np.mean(accuracy_list)\n",
    "precision = np.mean(precision_list)\n",
    "recall = np.mean(recall_list)\n",
    "f1 = np.mean(f1_list)\n",
    "specificity = np.mean(specificity_list)\n",
    "\n",
    "# Imprimimos los resultados\n",
    "print(f\"Accuracy: {accuracy}\")\n",
    "print(f\"Precision: {precision}\")\n",
    "print(f\"Recall: {recall}\")\n",
    "print(f\"F1: {f1}\")\n",
    "print(f\"Specificity: {specificity}\")\n"
   ]
  },
  {
   "cell_type": "code",
   "execution_count": 33,
   "metadata": {},
   "outputs": [
    {
     "data": {
      "image/png": "[encoded data removed]",
      "text/plain": [
       "<Figure size 640x480 with 2 Axes>"
      ]
     },
     "metadata": {},
     "output_type": "display_data"
    }
   ],
   "source": [
    "import seaborn as sns\n",
    "import matplotlib.pyplot as plt\n",
    "from sklearn.metrics import confusion_matrix\n",
    "\n",
    "y_true = y_test\n",
    "y_pred = y_pred\n",
    "\n",
    "# Creamos la matriz de confusión\n",
    "cm = confusion_matrix(y_true, y_pred)\n",
    "\n",
    "# Ploteamos la matriz de confusión\n",
    "sns.heatmap(cm, annot=True, cmap='Blues', fmt='d')\n",
    "\n",
    "# Añadimos etiquetas\n",
    "plt.xlabel('Predicted')\n",
    "plt.ylabel('True')\n",
    "plt.title('Confusion Matrix')\n",
    "\n",
    "# Mostramos el plot\n",
    "plt.show()"
   ]
  },
  {
   "cell_type": "markdown",
   "metadata": {},
   "source": [
    "##### Random Forest"
   ]
  },
  {
   "cell_type": "code",
   "execution_count": 34,
   "metadata": {},
   "outputs": [
    {
     "name": "stdout",
     "output_type": "stream",
     "text": [
      "Accuracy: 0.8009999999999999\n",
      "Precision: 0.7250419527078565\n",
      "Recall: 0.5439080459770115\n",
      "F1: 0.6168928892311643\n",
      "Specificity: 0.9102615694164988\n"
     ]
    }
   ],
   "source": [
    "from sklearn.ensemble import RandomForestClassifier\n",
    "\n",
    "# Inicializamos el modelo de Random Forest\n",
    "rf = RandomForestClassifier(n_estimators=100, random_state=42, class_weight={0: 10, 1: 1})\n",
    "# Creamos listas vacias para guardar accuracy, precision, recall, f1 y specificity\n",
    "accuracy_list = []\n",
    "precision_list = []\n",
    "recall_list = []\n",
    "f1_list = []\n",
    "specificity_list = []\n",
    "\n",
    "# Hacemos un bucle sobre cada split\n",
    "for train_index, test_index in sgkf.split(X, y):\n",
    "    X_train, X_test = X.iloc[train_index], X.iloc[test_index]\n",
    "    y_train, y_test = y.iloc[train_index], y.iloc[test_index]\n",
    "    # Entremanos el modelo de Random Forest\n",
    "    rf.fit(X_train, y_train)\n",
    "    # Hacemos predicciones\n",
    "    y_pred = rf.predict(X_test)\n",
    "    # Calculamos accuracy, precision, recall, f1 y specificity\n",
    "    accuracy = accuracy_score(y_test, y_pred)\n",
    "    precision = precision_score(y_test, y_pred)\n",
    "    recall = recall_score(y_test, y_pred)\n",
    "    f1 = f1_score(y_test, y_pred)\n",
    "    specificity = recall_score(y_test, y_pred, pos_label=0)\n",
    "    # Y los añadimos a las listas\n",
    "    accuracy_list.append(accuracy)\n",
    "    precision_list.append(precision)\n",
    "    recall_list.append(recall)\n",
    "    f1_list.append(f1)\n",
    "    specificity_list.append(specificity)\n",
    "\n",
    "# Calculamos la media de cada métrica\n",
    "accuracy = np.mean(accuracy_list)\n",
    "precision = np.mean(precision_list)\n",
    "recall = np.mean(recall_list)\n",
    "f1 = np.mean(f1_list)\n",
    "specificity = np.mean(specificity_list)\n",
    "# Imprimimos los resultados\n",
    "print(f\"Accuracy: {accuracy}\")\n",
    "print(f\"Precision: {precision}\")\n",
    "print(f\"Recall: {recall}\")\n",
    "print(f\"F1: {f1}\")\n",
    "print(f\"Specificity: {specificity}\")"
   ]
  },
  {
   "cell_type": "code",
   "execution_count": 35,
   "metadata": {},
   "outputs": [
    {
     "data": {
      "image/png": "[encoded data removed]",
      "text/plain": [
       "<Figure size 640x480 with 2 Axes>"
      ]
     },
     "metadata": {},
     "output_type": "display_data"
    }
   ],
   "source": [
    "import seaborn as sns\n",
    "import matplotlib.pyplot as plt\n",
    "from sklearn.metrics import confusion_matrix\n",
    "\n",
    "y_true = y_test\n",
    "y_pred = y_pred\n",
    "\n",
    "# Creamos la matriz de confusión\n",
    "cm = confusion_matrix(y_true, y_pred)\n",
    "\n",
    "# Plotemos la matriz de confusión\n",
    "sns.heatmap(cm, annot=True, cmap='Blues', fmt='d')\n",
    "\n",
    "# Añadimos etiquetas\n",
    "plt.xlabel('Predicted')\n",
    "plt.ylabel('True')\n",
    "plt.title('Confusion Matrix')\n",
    "\n",
    "# Mostramos el plot\n",
    "plt.show()"
   ]
  },
  {
   "cell_type": "markdown",
   "metadata": {},
   "source": [
    "c. Entrenar un modelo que optimice la predicción de la clase 1."
   ]
  },
  {
   "cell_type": "markdown",
   "metadata": {},
   "source": [
    "##### Regresión Lineal"
   ]
  },
  {
   "cell_type": "code",
   "execution_count": 36,
   "metadata": {},
   "outputs": [
    {
     "name": "stdout",
     "output_type": "stream",
     "text": [
      "Accuracy: 0.398\n",
      "Precision: 0.32773543794852456\n",
      "Recall: 0.9696551724137932\n",
      "F1: 0.4897959402954418\n",
      "Specificity: 0.9696551724137932\n"
     ]
    }
   ],
   "source": [
    "from sklearn.model_selection import StratifiedKFold\n",
    "from sklearn.linear_model import LogisticRegression\n",
    "from sklearn.metrics import precision_score, recall_score, f1_score, accuracy_score\n",
    "\n",
    "# Definimos el número de splits\n",
    "n_splits = 10\n",
    "# Definimos las features y la variable objetivo\n",
    "X = df.drop('target', axis=1)\n",
    "y = df['target']\n",
    "# Hacemos una instancia de StratifiedKFold por la diferencia de clases\n",
    "sgkf = StratifiedKFold(n_splits=n_splits, random_state=42, shuffle=True)\n",
    "# Inicializamos el modelo de regresión logística\n",
    "logreg = LogisticRegression(class_weight={0: 1, 1: 10})  # Ajustamos los pesos de las clases\n",
    "# Creamos listas vacias para guardar accuracy, precision, recall, f1 y specificity\n",
    "accuracy_list = []\n",
    "precision_list = []\n",
    "recall_list = []\n",
    "f1_list = []\n",
    "specificity_list = []\n",
    "# Hacemos un bucle sobre cada split\n",
    "for train_index, test_index in sgkf.split(X, y):\n",
    "    X_train, X_test = X.iloc[train_index], X.iloc[test_index]\n",
    "    y_train, y_test = y.iloc[train_index], y.iloc[test_index]\n",
    "    \n",
    "    # Entrenamos el modelo de regresión logística\n",
    "    logreg.fit(X_train, y_train)\n",
    "    # Hacemos predicciones\n",
    "    y_pred = logreg.predict(X_test)\n",
    "    # Calculamos accuracy, precision, recall, f1 y specificity\n",
    "    accuracy = accuracy_score(y_test, y_pred)\n",
    "    precision = precision_score(y_test, y_pred)\n",
    "    recall = recall_score(y_test, y_pred)\n",
    "    f1 = f1_score(y_test, y_pred)\n",
    "    specificity = recall_score(y_test, y_pred, pos_label=1)\n",
    "    # Y los añadimos a las listas\n",
    "    accuracy_list.append(accuracy)\n",
    "    precision_list.append(precision)\n",
    "    recall_list.append(recall)\n",
    "    f1_list.append(f1)\n",
    "    specificity_list.append(specificity)\n",
    "\n",
    "# Calculamos la media de cada métrica\n",
    "accuracy = np.mean(accuracy_list)\n",
    "precision = np.mean(precision_list)\n",
    "recall = np.mean(recall_list)\n",
    "f1 = np.mean(f1_list)\n",
    "specificity = np.mean(specificity_list)\n",
    "\n",
    "# Imprimimos los resultados\n",
    "print(f\"Accuracy: {accuracy}\")\n",
    "print(f\"Precision: {precision}\")\n",
    "print(f\"Recall: {recall}\")\n",
    "print(f\"F1: {f1}\")\n",
    "print(f\"Specificity: {specificity}\")"
   ]
  },
  {
   "cell_type": "code",
   "execution_count": 37,
   "metadata": {},
   "outputs": [
    {
     "data": {
      "image/png": "[encoded data removed]",
      "text/plain": [
       "<Figure size 640x480 with 2 Axes>"
      ]
     },
     "metadata": {},
     "output_type": "display_data"
    }
   ],
   "source": [
    "import seaborn as sns\n",
    "import matplotlib.pyplot as plt\n",
    "from sklearn.metrics import confusion_matrix\n",
    "\n",
    "y_true = y_test\n",
    "y_pred = y_pred\n",
    "\n",
    "# Creamos la matriz de confusión\n",
    "cm = confusion_matrix(y_true, y_pred)\n",
    "\n",
    "# Ploteamos la matriz de confusión\n",
    "sns.heatmap(cm, annot=True, cmap='Blues', fmt='d')\n",
    "\n",
    "# Añadimos etiquetas\n",
    "plt.xlabel('Predicted')\n",
    "plt.ylabel('True')\n",
    "plt.title('Confusion Matrix')\n",
    "\n",
    "# Mostramos el plot\n",
    "plt.show()"
   ]
  },
  {
   "cell_type": "markdown",
   "metadata": {},
   "source": [
    "##### Random Forest"
   ]
  },
  {
   "cell_type": "code",
   "execution_count": 38,
   "metadata": {},
   "outputs": [
    {
     "name": "stdout",
     "output_type": "stream",
     "text": [
      "Accuracy: 0.784\n",
      "Precision: 0.7220658508158508\n",
      "Recall: 0.45632183908045976\n",
      "F1: 0.5538099157770839\n",
      "Specificity: 0.9230985915492959\n"
     ]
    }
   ],
   "source": [
    "from sklearn.ensemble import RandomForestClassifier\n",
    "\n",
    "# Inicializamos el modelo de Random Forest\n",
    "rf = RandomForestClassifier(n_estimators=100, random_state=42, class_weight={0: 1, 1: 10})\n",
    "# Creamos listas vacias para guardar accuracy, precision, recall, f1 y specificity\n",
    "accuracy_list = []\n",
    "precision_list = []\n",
    "recall_list = []\n",
    "f1_list = []\n",
    "specificity_list = []\n",
    "\n",
    "# Hacemos un bucle sobre cada split\n",
    "for train_index, test_index in sgkf.split(X, y):\n",
    "    X_train, X_test = X.iloc[train_index], X.iloc[test_index]\n",
    "    y_train, y_test = y.iloc[train_index], y.iloc[test_index]\n",
    "    # Entremanos el modelo de Random Forest\n",
    "    rf.fit(X_train, y_train)\n",
    "    # Hacemos predicciones\n",
    "    y_pred = rf.predict(X_test)\n",
    "    # Calculamos accuracy, precision, recall, f1 y specificity\n",
    "    accuracy = accuracy_score(y_test, y_pred)\n",
    "    precision = precision_score(y_test, y_pred)\n",
    "    recall = recall_score(y_test, y_pred)\n",
    "    f1 = f1_score(y_test, y_pred)\n",
    "    specificity = recall_score(y_test, y_pred, pos_label=0)\n",
    "    # Y los añadimos a las listas\n",
    "    accuracy_list.append(accuracy)\n",
    "    precision_list.append(precision)\n",
    "    recall_list.append(recall)\n",
    "    f1_list.append(f1)\n",
    "    specificity_list.append(specificity)\n",
    "\n",
    "# Calculamos la media de cada métrica\n",
    "accuracy = np.mean(accuracy_list)\n",
    "precision = np.mean(precision_list)\n",
    "recall = np.mean(recall_list)\n",
    "f1 = np.mean(f1_list)\n",
    "specificity = np.mean(specificity_list)\n",
    "# Imprimimos los resultados\n",
    "print(f\"Accuracy: {accuracy}\")\n",
    "print(f\"Precision: {precision}\")\n",
    "print(f\"Recall: {recall}\")\n",
    "print(f\"F1: {f1}\")\n",
    "print(f\"Specificity: {specificity}\")"
   ]
  },
  {
   "cell_type": "code",
   "execution_count": 39,
   "metadata": {},
   "outputs": [
    {
     "data": {
      "image/png": "[encoded data removed]",
      "text/plain": [
       "<Figure size 640x480 with 2 Axes>"
      ]
     },
     "metadata": {},
     "output_type": "display_data"
    }
   ],
   "source": [
    "import seaborn as sns\n",
    "import matplotlib.pyplot as plt\n",
    "from sklearn.metrics import confusion_matrix\n",
    "\n",
    "y_true = y_test\n",
    "y_pred = y_pred\n",
    "\n",
    "# Creamos la matriz de confusión\n",
    "cm = confusion_matrix(y_true, y_pred)\n",
    "\n",
    "# Ploteamos la matriz de confusión\n",
    "sns.heatmap(cm, annot=True, cmap='Blues', fmt='d')\n",
    "\n",
    "# Añadimos etiquetas\n",
    "plt.xlabel('Predicted')\n",
    "plt.ylabel('True')\n",
    "plt.title('Confusion Matrix')\n",
    "\n",
    "# Mostramos el plot\n",
    "plt.show()"
   ]
  }
 ],
 "metadata": {
  "kernelspec": {
   "display_name": "env",
   "language": "python",
   "name": "python3"
  },
  "language_info": {
   "codemirror_mode": {
    "name": "ipython",
    "version": 3
   },
   "file_extension": ".py",
   "mimetype": "text/x-python",
   "name": "python",
   "nbconvert_exporter": "python",
   "pygments_lexer": "ipython3",
   "version": "3.8.10"
  }
 },
 "nbformat": 4,
 "nbformat_minor": 2
}
