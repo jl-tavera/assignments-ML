{
 "cells": [
  {
   "cell_type": "markdown",
   "metadata": {},
   "source": [
    "# Taller 1"
   ]
  },
  {
   "cell_type": "markdown",
   "metadata": {},
   "source": [
    "- Jose Luis Tavera Ruiz (201821999)\n",
    "- Aldemar Figueroa (202021091)\n"
   ]
  },
  {
   "cell_type": "markdown",
   "metadata": {},
   "source": [
    "### Librerias"
   ]
  },
  {
   "cell_type": "code",
   "execution_count": 1,
   "metadata": {},
   "outputs": [],
   "source": [
    "import numpy as np"
   ]
  },
  {
   "cell_type": "markdown",
   "metadata": {},
   "source": [
    "2. En este punto solo se pueden utilizar las operaciones básicas de numpy. Los vectores\n",
    "son arrays en numpy. Pueden asumir que los vectores 𝑌 solo toman dos valores."
   ]
  },
  {
   "cell_type": "markdown",
   "metadata": {},
   "source": [
    "a. Cree una función euclidean_distance que calcule la distancia euclidiana en $\\mathbb{R}^n$ entre dos vectores $x$, $z$."
   ]
  },
  {
   "cell_type": "markdown",
   "metadata": {},
   "source": [
    "Para calcular la distancia euclidiana en $\\mathbb{R}^n$ simplemente restamos los vectores componente a componente y elevamos al cuadrado. La raíz cuadrada de la suma de los cuadrados corresponde a la métrica euclidiana. Tomado de: [Stanford (1999)](https://hlab.stanford.edu/brian/euclidean_distance_in.html)"
   ]
  },
  {
   "cell_type": "code",
   "execution_count": 3,
   "metadata": {},
   "outputs": [],
   "source": [
    "def euclidean_distance(x, z):\n",
    "# Chequeamos si los vectores son del mismo tamaño\n",
    "    if len(x) != len(z):\n",
    "# En caso contrario, levantamos un error\n",
    "        raise ValueError(\"The vectors must be the same size\")\n",
    "    else:\n",
    "        return np.sqrt(np.sum((x - z)**2))"
   ]
  },
  {
   "cell_type": "code",
   "execution_count": 12,
   "metadata": {},
   "outputs": [
    {
     "name": "stdout",
     "output_type": "stream",
     "text": [
      "[1 2 3]\n",
      "[4 5 6]\n",
      "Euclidean Distance: 5.1962\n",
      "\n",
      "[1 2 3 4 5]\n",
      "[ 6  7  8  9 10]\n",
      "Euclidean Distance: 11.1803\n"
     ]
    }
   ],
   "source": [
    "# Probamos la función con algunos ejemplos\n",
    "x = np.array([1, 2, 3])\n",
    "z = np.array([4, 5, 6])\n",
    "print(x)\n",
    "print(z)\n",
    "print(\"Euclidean Distance: \" + str(round(euclidean_distance(x, z), 4)))\n",
    "print(\"\")\n",
    "\n",
    "x = np.array([1, 2, 3, 4, 5])\n",
    "z = np.array([6, 7, 8, 9, 10])\n",
    "print(x)\n",
    "print(z)\n",
    "print(\"Euclidean Distance: \" + str(round(euclidean_distance(x, z), 4)))"
   ]
  },
  {
   "cell_type": "markdown",
   "metadata": {},
   "source": [
    "b. Cree una función nearest_neighbor que, dado un vector 𝑥 y una matriz 𝑋_𝑡𝑟𝑎𝑖𝑛, retorna el vector de los datos de entrenamiento 𝑋_𝑡𝑟𝑎𝑖𝑛 que minimiza la distancia euclidiana a 𝑥. Debe utilizar la función euclidean_distance"
   ]
  },
  {
   "cell_type": "code",
   "execution_count": 13,
   "metadata": {},
   "outputs": [],
   "source": [
    "def nearest_neighbor(x, X_train):\n",
    "    # Definimos la distancia mínima como infinito\n",
    "    min_distance = float('inf')\n",
    "    # Definimos el vector más cercano como None\n",
    "    nearest_vector = None\n",
    "    \n",
    "    # Iteramos sobre cada vector en el conjunto de entrenamiento\n",
    "    for vector in X_train:\n",
    "        # Calculamos la distancia entre el vector actual y el vector x\n",
    "        distance = euclidean_distance(x, vector)\n",
    "        # Si la distancia es menor que la distancia mínima actual\n",
    "        if distance < min_distance:\n",
    "            # Actualizamos la distancia mínima y el vector más cercano\n",
    "            min_distance = distance\n",
    "            nearest_vector = vector\n",
    "    \n",
    "    return nearest_vector"
   ]
  },
  {
   "cell_type": "markdown",
   "metadata": {},
   "source": [
    "c. Cree una función k_nearest_neighbors que, dado un vector 𝑥, una\n",
    "matriz 𝑋_𝑡𝑟𝑎𝑖𝑛 y un entero 𝑘, retorna los k vectores más cercanos de los datos\n",
    "de entrenamiento 𝑋. Debe usar alguna de las funciones creadas previamente"
   ]
  },
  {
   "cell_type": "code",
   "execution_count": 15,
   "metadata": {},
   "outputs": [],
   "source": [
    "def k_nearest_neighbors(x, X_train, k):\n",
    "    # Creamos un diccionario para guardar las distancias y los vectores\n",
    "    distances_dict = {}\n",
    "    # Creamos una lista para guardar todas las distancias\n",
    "    all_distances = []\n",
    "    # Iteramos sobre cada vector en el conjunto de entrenamiento\n",
    "    for vector in X_train:\n",
    "        # Calculamos la distancia entre el vector actual y el vector x\n",
    "        distance = euclidean_distance(x, vector)\n",
    "        # Guardamos la distancia en la lista\n",
    "        all_distances.append(distance)\n",
    "        # GUarda la distancia y el vector en el diccionario\n",
    "        distances_dict[distance] = vector\n",
    "    \n",
    "    # Sorteamos todas las distancias\n",
    "    all_distances.sort()\n",
    "    # Guardamos los k vectores más cercanos\n",
    "    k_nearest = [distances_dict[distance] for distance in all_distances[:k]]\n",
    "    \n",
    "    return k_nearest"
   ]
  },
  {
   "cell_type": "code",
   "execution_count": 17,
   "metadata": {},
   "outputs": [
    {
     "name": "stdout",
     "output_type": "stream",
     "text": [
      "Los 2 vectores más cercanos en X_train a x son: [array([0, 0, 0]), array([4, 5, 6])]\n"
     ]
    }
   ],
   "source": [
    "# Ejemplo de uso:\n",
    "x = np.array([1, 2, 3])\n",
    "X_train = np.array([[4, 5, 6], [7, 8, 9], [10, 11, 12], [0, 0, 0]])\n",
    "k = 2\n",
    "\n",
    "nearest = k_nearest_neighbors(x, X_train, k)\n",
    "print(f\"Los {k} vectores más cercanos en X_train a x son:\", nearest)"
   ]
  },
  {
   "cell_type": "markdown",
   "metadata": {},
   "source": [
    "d. Cree una función predict_class que, dado vector 𝑥, una matriz 𝑋_𝑡𝑟𝑎𝑖𝑛, un\n",
    "vector 𝑌_𝑡𝑟𝑎𝑖𝑛, y un entero 𝑘, haga la predicción de cuál debe ser su clase\n",
    "(binaria) según el algoritmo de kNN. Debe utilizar la función\n",
    "k_nearest_neighbors."
   ]
  }
 ],
 "metadata": {
  "kernelspec": {
   "display_name": "env",
   "language": "python",
   "name": "python3"
  },
  "language_info": {
   "codemirror_mode": {
    "name": "ipython",
    "version": 3
   },
   "file_extension": ".py",
   "mimetype": "text/x-python",
   "name": "python",
   "nbconvert_exporter": "python",
   "pygments_lexer": "ipython3",
   "version": "3.10.12"
  }
 },
 "nbformat": 4,
 "nbformat_minor": 2
}
